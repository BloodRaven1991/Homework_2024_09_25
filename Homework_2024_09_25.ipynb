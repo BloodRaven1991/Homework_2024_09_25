{
 "cells": [
  {
   "cell_type": "markdown",
   "metadata": {},
   "source": [
    "### Сортировка файлов по размеру\n",
    "\n",
    "Напишите программу, которая сортирует файлы в данной директории по размеру (от меньшего к большему). Для этого неплохо было бы несколько файлов или создать вручную, если в директории с этой тетрадкой кроме нее ничего нет, либо перенести несколько случайных файлов в нее, после чего можно будет проверить работу кода. По итогу вы должны вывести список файлов директории с заданным ранее условием"
   ]
  },
  {
   "cell_type": "code",
   "execution_count": 3,
   "metadata": {},
   "outputs": [
    {
     "name": "stdout",
     "output_type": "stream",
     "text": [
      "Список файлов в директории 'BloodRaven' отсортированный по размеру:\n",
      "Blood Raven Logo.jpg: 11386 байт\n",
      "unnamed.jpg: 31066 байт\n",
      "70245114.jpg: 86220 байт\n",
      "3F3F.jpg: 245560 байт\n"
     ]
    }
   ],
   "source": [
    "# ваш код тут\n",
    "\n",
    "import os\n",
    "\n",
    "def sort_files_by_size(directory):\n",
    "    files_with_sizes = [(file, os.path.getsize(os.path.join(directory, file))) \n",
    "                        for file in os.listdir(directory) \n",
    "                        if os.path.isfile(os.path.join(directory, file))]\n",
    "    \n",
    "\n",
    "    sorted_files = sorted(files_with_sizes, key=lambda x: x[1])\n",
    "\n",
    " \n",
    "    print(\"Список файлов в директории 'BloodRaven' отсортированный по размеру:\")\n",
    "    for file, size in sorted_files:\n",
    "        print(f\"{file}: {size} байт\")\n",
    "\n",
    "\n",
    "\n",
    "directory = \"D:/Обучение Pyton/BloodRaven\"\n",
    "\n",
    "sort_files_by_size(directory)"
   ]
  },
  {
   "cell_type": "markdown",
   "metadata": {},
   "source": [
    "### Создание директорий\n",
    "\n",
    "Напишите программу, которая создает серию вложенных директорий с использованием цикла. Например, создать директорию \"А\", в которой будет лежать директория \"B\", в которой будет лежать директория \"C\" (названия директорий латиницей). В конце вы должны вывести, что содержится в каждой из этих директорий"
   ]
  },
  {
   "cell_type": "code",
   "execution_count": 4,
   "metadata": {},
   "outputs": [
    {
     "name": "stdout",
     "output_type": "stream",
     "text": [
      "Вложенные директории созданы:\n",
      "D:/Обучение Pyton/BloodRaven\\A\n",
      "D:/Обучение Pyton/BloodRaven\\A\\B\n",
      "D:/Обучение Pyton/BloodRaven\\A\\B\\C\n",
      "\n",
      "Содержимое директорий:\n",
      "D:/Обучение Pyton/BloodRaven\\A: ['B']\n",
      "D:/Обучение Pyton/BloodRaven\\A\\B: ['C']\n",
      "D:/Обучение Pyton/BloodRaven\\A\\B\\C: []\n"
     ]
    }
   ],
   "source": [
    "# ваш код тут\n",
    "\n",
    "import os\n",
    "\n",
    "def create_nested_directories(base_dir):\n",
    "    nested_dirs = ['A', 'B', 'C']\n",
    "    \n",
    "    current_dir = base_dir\n",
    "    \n",
    "    for dir_name in nested_dirs:\n",
    "        current_dir = os.path.join(current_dir, dir_name)\n",
    "        os.makedirs(current_dir, exist_ok=True)\n",
    "\n",
    "    print(\"Вложенные директории созданы:\")\n",
    "    for dir_name in nested_dirs:\n",
    "        nested_path = os.path.join(base_dir, *nested_dirs[:nested_dirs.index(dir_name)+1])\n",
    "        print(nested_path)\n",
    "\n",
    "def list_directory_contents(base_dir):\n",
    "    print(\"\\nСодержимое директорий:\")\n",
    "    for dir_name in ['A', 'B', 'C']:\n",
    "        nested_path = os.path.join(base_dir, *['A', 'B', 'C'][:['A', 'B', 'C'].index(dir_name)+1])\n",
    "        try:\n",
    "            contents = os.listdir(nested_path)\n",
    "            print(f\"{nested_path}: {contents}\")\n",
    "        except FileNotFoundError:\n",
    "            print(f\"Директория {nested_path} не найдена.\")\n",
    "\n",
    "base_directory = \"D:/Обучение Pyton/BloodRaven\"\n",
    "\n",
    "create_nested_directories(base_directory)\n",
    "\n",
    "list_directory_contents(base_directory)"
   ]
  },
  {
   "cell_type": "markdown",
   "metadata": {},
   "source": [
    "### Поиск файлов по расширению\n",
    "\n",
    "Напишите программу, которая выводит имена всех файлов с расширением, например, \".txt\" в определенной директории и всех поддиректориях"
   ]
  },
  {
   "cell_type": "code",
   "execution_count": 5,
   "metadata": {},
   "outputs": [
    {
     "name": "stdout",
     "output_type": "stream",
     "text": [
      "D:/Обучение Pyton/BloodRaven\\3F3F.jpg\n",
      "D:/Обучение Pyton/BloodRaven\\70245114.jpg\n",
      "D:/Обучение Pyton/BloodRaven\\Blood Raven Logo.jpg\n",
      "D:/Обучение Pyton/BloodRaven\\unnamed.jpg\n"
     ]
    }
   ],
   "source": [
    "# ваш код тут\n",
    "\n",
    "import os\n",
    "\n",
    "def find_files_with_extension(directory, extension):\n",
    "    for dirpath, dirnames, filenames in os.walk(directory):\n",
    "        for filename in filenames:\n",
    "            if filename.endswith(extension):\n",
    "                print(os.path.join(dirpath, filename))\n",
    "\n",
    "base_directory = \"D:/Обучение Pyton/BloodRaven\"\n",
    "file_extension = \".jpg\"\n",
    "\n",
    "find_files_with_extension(base_directory, file_extension)"
   ]
  },
  {
   "cell_type": "markdown",
   "metadata": {},
   "source": [
    "### Получение информации о файле\n",
    "\n",
    "Напишите программу, которая выводит информацию о файле: имя, размер, дату модификации, тип файла (файл/директория)"
   ]
  },
  {
   "cell_type": "code",
   "execution_count": 9,
   "metadata": {},
   "outputs": [
    {
     "name": "stdout",
     "output_type": "stream",
     "text": [
      "Имя: Герб.jpg\n",
      "Размер: 245560 байт\n",
      "Дата изменения: 2024-10-07 14:22:05\n",
      "Тип файла: Файл\n"
     ]
    }
   ],
   "source": [
    "# ваш код тут\n",
    "\n",
    "import os\n",
    "from datetime import datetime\n",
    "\n",
    "\n",
    "def print_file_info(path):\n",
    "    if os.path.exists(path):\n",
    "        file_name = os.path.basename(path)\n",
    "        file_size = os.path.getsize(path)\n",
    "        mod_time = os.path.getmtime(path)\n",
    "        is_directory = os.path.isdir(path)\n",
    "        \n",
    "        \n",
    "        mod_time_readable = datetime.fromtimestamp(mod_time).strftime(\"%Y-%m-%d %H:%M:%S\")\n",
    "\n",
    "        \n",
    "        file_type = \"Директория\" if is_directory else \"Файл\"\n",
    "        \n",
    "        \n",
    "        print(f\"Имя: {file_name}\")\n",
    "        print(f\"Размер: {file_size} байт\")\n",
    "        print(f\"Дата изменения: {mod_time_readable}\")\n",
    "        print(f\"Тип файла: {file_type}\")\n",
    "    else:\n",
    "        print(\"Данный путь или файл не существует.\")\n",
    "\n",
    "\n",
    "file_path = \"D:/Обучение Pyton/BloodRaven/Герб.jpg\"\n",
    "\n",
    "\n",
    "print_file_info(file_path)"
   ]
  },
  {
   "cell_type": "markdown",
   "metadata": {},
   "source": [
    "### Проверка e-mail адреса\n",
    "\n",
    "Напишите программу, которая запрашивает у пользователя ввести e-mail адрес и проверяет введенную строку с помощью регулярных выражений, является ли она типовым e-mail адресом. В случае, если да, программа должны вывести \"Всё верно\", если же нет, то \"Вы допустили ошибку в e-mail адресе\""
   ]
  },
  {
   "cell_type": "code",
   "execution_count": 10,
   "metadata": {},
   "outputs": [
    {
     "name": "stdout",
     "output_type": "stream",
     "text": [
      "Всё верно\n"
     ]
    }
   ],
   "source": [
    "# ваш код тут\n",
    "\n",
    "import re\n",
    "\n",
    "def is_valid_email(email):\n",
    "    email_pattern = r'^[\\w\\.-]+@[\\w\\.-]+\\.\\w+$'\n",
    "    return re.match(email_pattern, email) is not None\n",
    "\n",
    "\n",
    "user_email = input(\"Введите e-mail адрес: \")\n",
    "\n",
    "\n",
    "if is_valid_email(user_email):\n",
    "    print(\"Всё верно\")\n",
    "else:\n",
    "    print(\"Вы допустили ошибку в e-mail адресе\")"
   ]
  }
 ],
 "metadata": {
  "kernelspec": {
   "display_name": "Python 3",
   "language": "python",
   "name": "python3"
  },
  "language_info": {
   "codemirror_mode": {
    "name": "ipython",
    "version": 3
   },
   "file_extension": ".py",
   "mimetype": "text/x-python",
   "name": "python",
   "nbconvert_exporter": "python",
   "pygments_lexer": "ipython3",
   "version": "3.12.6"
  }
 },
 "nbformat": 4,
 "nbformat_minor": 2
}
